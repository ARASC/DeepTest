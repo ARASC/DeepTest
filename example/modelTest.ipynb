{
  "nbformat": 4,
  "nbformat_minor": 0,
  "metadata": {
    "colab": {
      "name": "modelTest.ipynb",
      "provenance": [],
      "collapsed_sections": []
    },
    "kernelspec": {
      "name": "python3",
      "display_name": "Python 3"
    }
  },
  "cells": [
    {
      "cell_type": "markdown",
      "metadata": {
        "id": "tBz8WVBbvB6P"
      },
      "source": [
        "# 模块加载"
      ]
    },
    {
      "cell_type": "code",
      "metadata": {
        "id": "_MDwTUGjZ_ax",
        "outputId": "cb2a92fb-f8f3-4bc7-d4e4-fc064f54c32d",
        "colab": {
          "base_uri": "https://localhost:8080/",
          "height": 323
        }
      },
      "source": [
        "!git clone -b dev https://github.com/ARASC/ModelTest.git\n",
        "!pip install --upgrade pip \n",
        "!pip install deepctr"
      ],
      "execution_count": 2,
      "outputs": [
        {
          "output_type": "stream",
          "text": [
            "Cloning into 'ModelTest'...\n",
            "remote: Enumerating objects: 211, done.\u001b[K\n",
            "remote: Counting objects: 100% (211/211), done.\u001b[K\n",
            "remote: Compressing objects: 100% (138/138), done.\u001b[K\n",
            "remote: Total 211 (delta 99), reused 163 (delta 63), pack-reused 0\u001b[K\n",
            "Receiving objects: 100% (211/211), 40.55 KiB | 233.00 KiB/s, done.\n",
            "Resolving deltas: 100% (99/99), done.\n",
            "Requirement already up-to-date: pip in /usr/local/lib/python3.6/dist-packages (20.2.3)\n",
            "Requirement already satisfied: deepctr in /usr/local/lib/python3.6/dist-packages (0.8.1)\n",
            "Requirement already satisfied: requests in /usr/local/lib/python3.6/dist-packages (from deepctr) (2.23.0)\n",
            "Requirement already satisfied: h5py in /usr/local/lib/python3.6/dist-packages (from deepctr) (2.10.0)\n",
            "Requirement already satisfied: urllib3!=1.25.0,!=1.25.1,<1.26,>=1.21.1 in /usr/local/lib/python3.6/dist-packages (from requests->deepctr) (1.24.3)\n",
            "Requirement already satisfied: chardet<4,>=3.0.2 in /usr/local/lib/python3.6/dist-packages (from requests->deepctr) (3.0.4)\n",
            "Requirement already satisfied: certifi>=2017.4.17 in /usr/local/lib/python3.6/dist-packages (from requests->deepctr) (2020.6.20)\n",
            "Requirement already satisfied: idna<3,>=2.5 in /usr/local/lib/python3.6/dist-packages (from requests->deepctr) (2.10)\n",
            "Requirement already satisfied: six in /usr/local/lib/python3.6/dist-packages (from h5py->deepctr) (1.15.0)\n",
            "Requirement already satisfied: numpy>=1.7 in /usr/local/lib/python3.6/dist-packages (from h5py->deepctr) (1.18.5)\n"
          ],
          "name": "stdout"
        }
      ]
    },
    {
      "cell_type": "code",
      "metadata": {
        "id": "eurGWRazob47",
        "outputId": "1f6cf136-18fa-4ee1-e477-eefe2a0458c2",
        "colab": {
          "base_uri": "https://localhost:8080/",
          "height": 35
        }
      },
      "source": [
        "%cd ModelTest/"
      ],
      "execution_count": 3,
      "outputs": [
        {
          "output_type": "stream",
          "text": [
            "/content/ModelTest\n"
          ],
          "name": "stdout"
        }
      ]
    },
    {
      "cell_type": "markdown",
      "metadata": {
        "id": "tFigM9Ihuu3x"
      },
      "source": [
        "# 获取数据集"
      ]
    },
    {
      "cell_type": "code",
      "metadata": {
        "id": "Et7vpiewab4Z"
      },
      "source": [
        "from modeltest.dataset.criteo import Criteo\n",
        "import pandas as pd"
      ],
      "execution_count": 4,
      "outputs": []
    },
    {
      "cell_type": "code",
      "metadata": {
        "id": "2ZrejGCMRxKe"
      },
      "source": [
        "# pd.set_option('display.max_columns', None) "
      ],
      "execution_count": 6,
      "outputs": []
    },
    {
      "cell_type": "code",
      "metadata": {
        "id": "cmq8YQzknrnt"
      },
      "source": [
        "train_size = 1000\n",
        "test_test = 1000\n",
        "criteo = Criteo(train_size, test_test)"
      ],
      "execution_count": 5,
      "outputs": []
    },
    {
      "cell_type": "markdown",
      "metadata": {
        "id": "VizeGliXpDQ-"
      },
      "source": [
        "您可以通过 `criteo.load_data()` 进行数据集的下载  \n",
        "当检测到默认文件夹中不包含目标数据集时，系统将自动下载数据集  \n",
        "您可以通过修改 info 文件来自定义储存数据集的默认文件夹\n"
      ]
    },
    {
      "cell_type": "code",
      "metadata": {
        "id": "pyFca9g9qzWA",
        "outputId": "34b31a03-bd05-4067-b5c4-8a9904d2082c",
        "colab": {
          "base_uri": "https://localhost:8080/",
          "height": 53
        }
      },
      "source": [
        "paths = criteo.load_data()\n",
        "for path in paths:\n",
        "    print(path)"
      ],
      "execution_count": 6,
      "outputs": [
        {
          "output_type": "stream",
          "text": [
            "/root/modeltest_data/criteo/kaggle-display-advertising-challenge-dataset/train.txt\n",
            "/root/modeltest_data/criteo/kaggle-display-advertising-challenge-dataset/test.txt\n"
          ],
          "name": "stdout"
        }
      ]
    },
    {
      "cell_type": "markdown",
      "metadata": {
        "id": "mlBBgoTNsAxS"
      },
      "source": [
        "您可以通过 `criteo.get_data()` 获取训练和测试数据  \n",
        "它们将以字典的形式返回 DataFrame 对象\n"
      ]
    },
    {
      "cell_type": "code",
      "metadata": {
        "id": "Rc182tCLafjQ",
        "outputId": "1529c897-9bb2-40ec-fd53-d106d2044e8e",
        "colab": {
          "base_uri": "https://localhost:8080/",
          "height": 161
        }
      },
      "source": [
        "data = criteo.get_data()\n",
        "print(data['train'].head())"
      ],
      "execution_count": 7,
      "outputs": [
        {
          "output_type": "stream",
          "text": [
            "   label   I1   I2    I3  ...       C23       C24       C25       C26\n",
            "0      0  1.0    1   5.0  ...  3a171ecb  c5c50484  e8b83407  9727dd16\n",
            "1      0  2.0    0  44.0  ...  3a171ecb  43f13e8b  e8b83407  731c3655\n",
            "2      0  2.0    0   1.0  ...  3a171ecb  3b183c5c       NaN       NaN\n",
            "3      0  NaN  893   NaN  ...  3a171ecb  9117a34a       NaN       NaN\n",
            "4      0  3.0   -1   NaN  ...  32c7478e  b34f3128       NaN       NaN\n",
            "\n",
            "[5 rows x 40 columns]\n"
          ],
          "name": "stdout"
        }
      ]
    },
    {
      "cell_type": "markdown",
      "metadata": {
        "id": "7avOfjM5u2JJ"
      },
      "source": [
        "# 特征构造"
      ]
    },
    {
      "cell_type": "code",
      "metadata": {
        "id": "8qGG5AgesGzW"
      },
      "source": [
        "from modeltest.paradigms import CTRFM"
      ],
      "execution_count": 8,
      "outputs": []
    },
    {
      "cell_type": "code",
      "metadata": {
        "id": "MtJ0-XgUu4A7"
      },
      "source": [
        "embedding_dim = 32\n",
        "ctrfm = CTRFM()"
      ],
      "execution_count": 9,
      "outputs": []
    },
    {
      "cell_type": "code",
      "metadata": {
        "id": "FohzoZuIvtm7",
        "outputId": "e99aa461-2749-4053-8c7c-736f3641703c",
        "colab": {
          "base_uri": "https://localhost:8080/",
          "height": 161
        }
      },
      "source": [
        "train_data, test_data = ctrfm.get_data(criteo)\n",
        "print(train_data.head())"
      ],
      "execution_count": 11,
      "outputs": [
        {
          "output_type": "stream",
          "text": [
            "   label        I1        I2        I3        I4  ...  C22  C23  C24  C25  C26\n",
            "0      0  0.011364  0.000864  0.000591  0.000000  ...    0    1  342   24  183\n",
            "1      0  0.022727  0.000576  0.005203  0.011494  ...    0    1  111   24  141\n",
            "2      0  0.022727  0.000576  0.000118  0.160920  ...    3    1   94    0    0\n",
            "3      0  0.000000  0.257628  0.000000  0.000000  ...    0    1  247    0    0\n",
            "4      0  0.034091  0.000288  0.000000  0.000000  ...    0    0  323    0    0\n",
            "\n",
            "[5 rows x 40 columns]\n"
          ],
          "name": "stdout"
        }
      ]
    },
    {
      "cell_type": "code",
      "metadata": {
        "id": "j9qDvZO843WM",
        "outputId": "237887d4-db02-45f3-dd71-4b111f03cb38",
        "colab": {
          "base_uri": "https://localhost:8080/",
          "height": 1000
        }
      },
      "source": [
        "dnn_features, linear_features = ctrfm.get_feature_cols(criteo, embedding_dim)\n",
        "for feature in dnn_features:\n",
        "    print(feature)\n",
        "for feature in linear_features:\n",
        "         print(feature)"
      ],
      "execution_count": 12,
      "outputs": [
        {
          "output_type": "stream",
          "text": [
            "SparseFeat(name='C1', vocabulary_size=53, embedding_dim=32, use_hash=False, dtype='int32', embeddings_initializer=<tensorflow.python.keras.initializers.initializers_v1.RandomNormal object at 0x7f0e5e4959e8>, embedding_name='C1', group_name='default_group', trainable=True)\n",
            "SparseFeat(name='C2', vocabulary_size=191, embedding_dim=32, use_hash=False, dtype='int32', embeddings_initializer=<tensorflow.python.keras.initializers.initializers_v1.RandomNormal object at 0x7f0e5e495048>, embedding_name='C2', group_name='default_group', trainable=True)\n",
            "SparseFeat(name='C3', vocabulary_size=674, embedding_dim=32, use_hash=False, dtype='int32', embeddings_initializer=<tensorflow.python.keras.initializers.initializers_v1.RandomNormal object at 0x7f0e5e4950b8>, embedding_name='C3', group_name='default_group', trainable=True)\n",
            "SparseFeat(name='C4', vocabulary_size=566, embedding_dim=32, use_hash=False, dtype='int32', embeddings_initializer=<tensorflow.python.keras.initializers.initializers_v1.RandomNormal object at 0x7f0e5e495198>, embedding_name='C4', group_name='default_group', trainable=True)\n",
            "SparseFeat(name='C5', vocabulary_size=22, embedding_dim=32, use_hash=False, dtype='int32', embeddings_initializer=<tensorflow.python.keras.initializers.initializers_v1.RandomNormal object at 0x7f0e5e495160>, embedding_name='C5', group_name='default_group', trainable=True)\n",
            "SparseFeat(name='C6', vocabulary_size=6, embedding_dim=32, use_hash=False, dtype='int32', embeddings_initializer=<tensorflow.python.keras.initializers.initializers_v1.RandomNormal object at 0x7f0e5e495390>, embedding_name='C6', group_name='default_group', trainable=True)\n",
            "SparseFeat(name='C7', vocabulary_size=696, embedding_dim=32, use_hash=False, dtype='int32', embeddings_initializer=<tensorflow.python.keras.initializers.initializers_v1.RandomNormal object at 0x7f0e5e4953c8>, embedding_name='C7', group_name='default_group', trainable=True)\n",
            "SparseFeat(name='C8', vocabulary_size=28, embedding_dim=32, use_hash=False, dtype='int32', embeddings_initializer=<tensorflow.python.keras.initializers.initializers_v1.RandomNormal object at 0x7f0e5e495a58>, embedding_name='C8', group_name='default_group', trainable=True)\n",
            "SparseFeat(name='C9', vocabulary_size=2, embedding_dim=32, use_hash=False, dtype='int32', embeddings_initializer=<tensorflow.python.keras.initializers.initializers_v1.RandomNormal object at 0x7f0e5e495a90>, embedding_name='C9', group_name='default_group', trainable=True)\n",
            "SparseFeat(name='C10', vocabulary_size=531, embedding_dim=32, use_hash=False, dtype='int32', embeddings_initializer=<tensorflow.python.keras.initializers.initializers_v1.RandomNormal object at 0x7f0e5e495ac8>, embedding_name='C10', group_name='default_group', trainable=True)\n",
            "SparseFeat(name='C11', vocabulary_size=605, embedding_dim=32, use_hash=False, dtype='int32', embeddings_initializer=<tensorflow.python.keras.initializers.initializers_v1.RandomNormal object at 0x7f0e5e495b38>, embedding_name='C11', group_name='default_group', trainable=True)\n",
            "SparseFeat(name='C12', vocabulary_size=648, embedding_dim=32, use_hash=False, dtype='int32', embeddings_initializer=<tensorflow.python.keras.initializers.initializers_v1.RandomNormal object at 0x7f0e5e495828>, embedding_name='C12', group_name='default_group', trainable=True)\n",
            "SparseFeat(name='C13', vocabulary_size=552, embedding_dim=32, use_hash=False, dtype='int32', embeddings_initializer=<tensorflow.python.keras.initializers.initializers_v1.RandomNormal object at 0x7f0e5e4954a8>, embedding_name='C13', group_name='default_group', trainable=True)\n",
            "SparseFeat(name='C14', vocabulary_size=15, embedding_dim=32, use_hash=False, dtype='int32', embeddings_initializer=<tensorflow.python.keras.initializers.initializers_v1.RandomNormal object at 0x7f0e5e495358>, embedding_name='C14', group_name='default_group', trainable=True)\n",
            "SparseFeat(name='C15', vocabulary_size=518, embedding_dim=32, use_hash=False, dtype='int32', embeddings_initializer=<tensorflow.python.keras.initializers.initializers_v1.RandomNormal object at 0x7f0e5e495438>, embedding_name='C15', group_name='default_group', trainable=True)\n",
            "SparseFeat(name='C16', vocabulary_size=619, embedding_dim=32, use_hash=False, dtype='int32', embeddings_initializer=<tensorflow.python.keras.initializers.initializers_v1.RandomNormal object at 0x7f0e5e495470>, embedding_name='C16', group_name='default_group', trainable=True)\n",
            "SparseFeat(name='C17', vocabulary_size=9, embedding_dim=32, use_hash=False, dtype='int32', embeddings_initializer=<tensorflow.python.keras.initializers.initializers_v1.RandomNormal object at 0x7f0e5e495b00>, embedding_name='C17', group_name='default_group', trainable=True)\n",
            "SparseFeat(name='C18', vocabulary_size=359, embedding_dim=32, use_hash=False, dtype='int32', embeddings_initializer=<tensorflow.python.keras.initializers.initializers_v1.RandomNormal object at 0x7f0e5e495518>, embedding_name='C18', group_name='default_group', trainable=True)\n",
            "SparseFeat(name='C19', vocabulary_size=123, embedding_dim=32, use_hash=False, dtype='int32', embeddings_initializer=<tensorflow.python.keras.initializers.initializers_v1.RandomNormal object at 0x7f0e5e495550>, embedding_name='C19', group_name='default_group', trainable=True)\n",
            "SparseFeat(name='C20', vocabulary_size=3, embedding_dim=32, use_hash=False, dtype='int32', embeddings_initializer=<tensorflow.python.keras.initializers.initializers_v1.RandomNormal object at 0x7f0e5e495588>, embedding_name='C20', group_name='default_group', trainable=True)\n",
            "SparseFeat(name='C21', vocabulary_size=633, embedding_dim=32, use_hash=False, dtype='int32', embeddings_initializer=<tensorflow.python.keras.initializers.initializers_v1.RandomNormal object at 0x7f0e5e4955c0>, embedding_name='C21', group_name='default_group', trainable=True)\n",
            "SparseFeat(name='C22', vocabulary_size=5, embedding_dim=32, use_hash=False, dtype='int32', embeddings_initializer=<tensorflow.python.keras.initializers.initializers_v1.RandomNormal object at 0x7f0e5e495c50>, embedding_name='C22', group_name='default_group', trainable=True)\n",
            "SparseFeat(name='C23', vocabulary_size=12, embedding_dim=32, use_hash=False, dtype='int32', embeddings_initializer=<tensorflow.python.keras.initializers.initializers_v1.RandomNormal object at 0x7f0e5e495668>, embedding_name='C23', group_name='default_group', trainable=True)\n",
            "SparseFeat(name='C24', vocabulary_size=420, embedding_dim=32, use_hash=False, dtype='int32', embeddings_initializer=<tensorflow.python.keras.initializers.initializers_v1.RandomNormal object at 0x7f0e5e4956a0>, embedding_name='C24', group_name='default_group', trainable=True)\n",
            "SparseFeat(name='C25', vocabulary_size=28, embedding_dim=32, use_hash=False, dtype='int32', embeddings_initializer=<tensorflow.python.keras.initializers.initializers_v1.RandomNormal object at 0x7f0e5e4957f0>, embedding_name='C25', group_name='default_group', trainable=True)\n",
            "SparseFeat(name='C26', vocabulary_size=321, embedding_dim=32, use_hash=False, dtype='int32', embeddings_initializer=<tensorflow.python.keras.initializers.initializers_v1.RandomNormal object at 0x7f0e5e495710>, embedding_name='C26', group_name='default_group', trainable=True)\n",
            "DenseFeat(name='I1', dimension=1, dtype='float32')\n",
            "DenseFeat(name='I2', dimension=1, dtype='float32')\n",
            "DenseFeat(name='I3', dimension=1, dtype='float32')\n",
            "DenseFeat(name='I4', dimension=1, dtype='float32')\n",
            "DenseFeat(name='I5', dimension=1, dtype='float32')\n",
            "DenseFeat(name='I6', dimension=1, dtype='float32')\n",
            "DenseFeat(name='I7', dimension=1, dtype='float32')\n",
            "DenseFeat(name='I8', dimension=1, dtype='float32')\n",
            "DenseFeat(name='I9', dimension=1, dtype='float32')\n",
            "DenseFeat(name='I10', dimension=1, dtype='float32')\n",
            "DenseFeat(name='I11', dimension=1, dtype='float32')\n",
            "DenseFeat(name='I12', dimension=1, dtype='float32')\n",
            "DenseFeat(name='I13', dimension=1, dtype='float32')\n",
            "SparseFeat(name='C1', vocabulary_size=53, embedding_dim=32, use_hash=False, dtype='int32', embeddings_initializer=<tensorflow.python.keras.initializers.initializers_v1.RandomNormal object at 0x7f0e5e4959e8>, embedding_name='C1', group_name='default_group', trainable=True)\n",
            "SparseFeat(name='C2', vocabulary_size=191, embedding_dim=32, use_hash=False, dtype='int32', embeddings_initializer=<tensorflow.python.keras.initializers.initializers_v1.RandomNormal object at 0x7f0e5e495048>, embedding_name='C2', group_name='default_group', trainable=True)\n",
            "SparseFeat(name='C3', vocabulary_size=674, embedding_dim=32, use_hash=False, dtype='int32', embeddings_initializer=<tensorflow.python.keras.initializers.initializers_v1.RandomNormal object at 0x7f0e5e4950b8>, embedding_name='C3', group_name='default_group', trainable=True)\n",
            "SparseFeat(name='C4', vocabulary_size=566, embedding_dim=32, use_hash=False, dtype='int32', embeddings_initializer=<tensorflow.python.keras.initializers.initializers_v1.RandomNormal object at 0x7f0e5e495198>, embedding_name='C4', group_name='default_group', trainable=True)\n",
            "SparseFeat(name='C5', vocabulary_size=22, embedding_dim=32, use_hash=False, dtype='int32', embeddings_initializer=<tensorflow.python.keras.initializers.initializers_v1.RandomNormal object at 0x7f0e5e495160>, embedding_name='C5', group_name='default_group', trainable=True)\n",
            "SparseFeat(name='C6', vocabulary_size=6, embedding_dim=32, use_hash=False, dtype='int32', embeddings_initializer=<tensorflow.python.keras.initializers.initializers_v1.RandomNormal object at 0x7f0e5e495390>, embedding_name='C6', group_name='default_group', trainable=True)\n",
            "SparseFeat(name='C7', vocabulary_size=696, embedding_dim=32, use_hash=False, dtype='int32', embeddings_initializer=<tensorflow.python.keras.initializers.initializers_v1.RandomNormal object at 0x7f0e5e4953c8>, embedding_name='C7', group_name='default_group', trainable=True)\n",
            "SparseFeat(name='C8', vocabulary_size=28, embedding_dim=32, use_hash=False, dtype='int32', embeddings_initializer=<tensorflow.python.keras.initializers.initializers_v1.RandomNormal object at 0x7f0e5e495a58>, embedding_name='C8', group_name='default_group', trainable=True)\n",
            "SparseFeat(name='C9', vocabulary_size=2, embedding_dim=32, use_hash=False, dtype='int32', embeddings_initializer=<tensorflow.python.keras.initializers.initializers_v1.RandomNormal object at 0x7f0e5e495a90>, embedding_name='C9', group_name='default_group', trainable=True)\n",
            "SparseFeat(name='C10', vocabulary_size=531, embedding_dim=32, use_hash=False, dtype='int32', embeddings_initializer=<tensorflow.python.keras.initializers.initializers_v1.RandomNormal object at 0x7f0e5e495ac8>, embedding_name='C10', group_name='default_group', trainable=True)\n",
            "SparseFeat(name='C11', vocabulary_size=605, embedding_dim=32, use_hash=False, dtype='int32', embeddings_initializer=<tensorflow.python.keras.initializers.initializers_v1.RandomNormal object at 0x7f0e5e495b38>, embedding_name='C11', group_name='default_group', trainable=True)\n",
            "SparseFeat(name='C12', vocabulary_size=648, embedding_dim=32, use_hash=False, dtype='int32', embeddings_initializer=<tensorflow.python.keras.initializers.initializers_v1.RandomNormal object at 0x7f0e5e495828>, embedding_name='C12', group_name='default_group', trainable=True)\n",
            "SparseFeat(name='C13', vocabulary_size=552, embedding_dim=32, use_hash=False, dtype='int32', embeddings_initializer=<tensorflow.python.keras.initializers.initializers_v1.RandomNormal object at 0x7f0e5e4954a8>, embedding_name='C13', group_name='default_group', trainable=True)\n",
            "SparseFeat(name='C14', vocabulary_size=15, embedding_dim=32, use_hash=False, dtype='int32', embeddings_initializer=<tensorflow.python.keras.initializers.initializers_v1.RandomNormal object at 0x7f0e5e495358>, embedding_name='C14', group_name='default_group', trainable=True)\n",
            "SparseFeat(name='C15', vocabulary_size=518, embedding_dim=32, use_hash=False, dtype='int32', embeddings_initializer=<tensorflow.python.keras.initializers.initializers_v1.RandomNormal object at 0x7f0e5e495438>, embedding_name='C15', group_name='default_group', trainable=True)\n",
            "SparseFeat(name='C16', vocabulary_size=619, embedding_dim=32, use_hash=False, dtype='int32', embeddings_initializer=<tensorflow.python.keras.initializers.initializers_v1.RandomNormal object at 0x7f0e5e495470>, embedding_name='C16', group_name='default_group', trainable=True)\n",
            "SparseFeat(name='C17', vocabulary_size=9, embedding_dim=32, use_hash=False, dtype='int32', embeddings_initializer=<tensorflow.python.keras.initializers.initializers_v1.RandomNormal object at 0x7f0e5e495b00>, embedding_name='C17', group_name='default_group', trainable=True)\n",
            "SparseFeat(name='C18', vocabulary_size=359, embedding_dim=32, use_hash=False, dtype='int32', embeddings_initializer=<tensorflow.python.keras.initializers.initializers_v1.RandomNormal object at 0x7f0e5e495518>, embedding_name='C18', group_name='default_group', trainable=True)\n",
            "SparseFeat(name='C19', vocabulary_size=123, embedding_dim=32, use_hash=False, dtype='int32', embeddings_initializer=<tensorflow.python.keras.initializers.initializers_v1.RandomNormal object at 0x7f0e5e495550>, embedding_name='C19', group_name='default_group', trainable=True)\n",
            "SparseFeat(name='C20', vocabulary_size=3, embedding_dim=32, use_hash=False, dtype='int32', embeddings_initializer=<tensorflow.python.keras.initializers.initializers_v1.RandomNormal object at 0x7f0e5e495588>, embedding_name='C20', group_name='default_group', trainable=True)\n",
            "SparseFeat(name='C21', vocabulary_size=633, embedding_dim=32, use_hash=False, dtype='int32', embeddings_initializer=<tensorflow.python.keras.initializers.initializers_v1.RandomNormal object at 0x7f0e5e4955c0>, embedding_name='C21', group_name='default_group', trainable=True)\n",
            "SparseFeat(name='C22', vocabulary_size=5, embedding_dim=32, use_hash=False, dtype='int32', embeddings_initializer=<tensorflow.python.keras.initializers.initializers_v1.RandomNormal object at 0x7f0e5e495c50>, embedding_name='C22', group_name='default_group', trainable=True)\n",
            "SparseFeat(name='C23', vocabulary_size=12, embedding_dim=32, use_hash=False, dtype='int32', embeddings_initializer=<tensorflow.python.keras.initializers.initializers_v1.RandomNormal object at 0x7f0e5e495668>, embedding_name='C23', group_name='default_group', trainable=True)\n",
            "SparseFeat(name='C24', vocabulary_size=420, embedding_dim=32, use_hash=False, dtype='int32', embeddings_initializer=<tensorflow.python.keras.initializers.initializers_v1.RandomNormal object at 0x7f0e5e4956a0>, embedding_name='C24', group_name='default_group', trainable=True)\n",
            "SparseFeat(name='C25', vocabulary_size=28, embedding_dim=32, use_hash=False, dtype='int32', embeddings_initializer=<tensorflow.python.keras.initializers.initializers_v1.RandomNormal object at 0x7f0e5e4957f0>, embedding_name='C25', group_name='default_group', trainable=True)\n",
            "SparseFeat(name='C26', vocabulary_size=321, embedding_dim=32, use_hash=False, dtype='int32', embeddings_initializer=<tensorflow.python.keras.initializers.initializers_v1.RandomNormal object at 0x7f0e5e495710>, embedding_name='C26', group_name='default_group', trainable=True)\n",
            "DenseFeat(name='I1', dimension=1, dtype='float32')\n",
            "DenseFeat(name='I2', dimension=1, dtype='float32')\n",
            "DenseFeat(name='I3', dimension=1, dtype='float32')\n",
            "DenseFeat(name='I4', dimension=1, dtype='float32')\n",
            "DenseFeat(name='I5', dimension=1, dtype='float32')\n",
            "DenseFeat(name='I6', dimension=1, dtype='float32')\n",
            "DenseFeat(name='I7', dimension=1, dtype='float32')\n",
            "DenseFeat(name='I8', dimension=1, dtype='float32')\n",
            "DenseFeat(name='I9', dimension=1, dtype='float32')\n",
            "DenseFeat(name='I10', dimension=1, dtype='float32')\n",
            "DenseFeat(name='I11', dimension=1, dtype='float32')\n",
            "DenseFeat(name='I12', dimension=1, dtype='float32')\n",
            "DenseFeat(name='I13', dimension=1, dtype='float32')\n"
          ],
          "name": "stdout"
        }
      ]
    },
    {
      "cell_type": "code",
      "metadata": {
        "id": "7kpd0Ew15krh"
      },
      "source": [
        ""
      ],
      "execution_count": null,
      "outputs": []
    },
    {
      "cell_type": "markdown",
      "metadata": {
        "id": "YN3XGCglvNIq"
      },
      "source": [
        "# 模型训练"
      ]
    },
    {
      "cell_type": "code",
      "metadata": {
        "id": "gBnRLC5QvOxH"
      },
      "source": [
        ""
      ],
      "execution_count": null,
      "outputs": []
    },
    {
      "cell_type": "markdown",
      "metadata": {
        "id": "MFXk58tUvQB4"
      },
      "source": [
        "# 评价指标"
      ]
    },
    {
      "cell_type": "code",
      "metadata": {
        "id": "VlkIQx4hvR3V"
      },
      "source": [
        ""
      ],
      "execution_count": null,
      "outputs": []
    }
  ]
}