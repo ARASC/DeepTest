{
  "nbformat": 4,
  "nbformat_minor": 0,
  "metadata": {
    "colab": {
      "name": "modelTest.ipynb",
      "provenance": []
    },
    "kernelspec": {
      "name": "python3",
      "display_name": "Python 3"
    }
  },
  "cells": [
    {
      "cell_type": "markdown",
      "metadata": {
        "id": "tBz8WVBbvB6P"
      },
      "source": [
        "# 模块加载"
      ]
    },
    {
      "cell_type": "code",
      "metadata": {
        "id": "_MDwTUGjZ_ax",
        "outputId": "78793201-a2eb-4fbf-91be-fe865c2fb769",
        "colab": {
          "base_uri": "https://localhost:8080/"
        }
      },
      "source": [
        "!git clone -b dev https://github.com/ARASC/ModelTest.git"
      ],
      "execution_count": 2,
      "outputs": [
        {
          "output_type": "stream",
          "text": [
            "Cloning into 'ModelTest'...\n",
            "remote: Enumerating objects: 158, done.\u001b[K\n",
            "remote: Counting objects: 100% (158/158), done.\u001b[K\n",
            "remote: Compressing objects: 100% (102/102), done.\u001b[K\n",
            "remote: Total 158 (delta 80), reused 121 (delta 49), pack-reused 0\u001b[K\n",
            "Receiving objects: 100% (158/158), 28.65 KiB | 4.09 MiB/s, done.\n",
            "Resolving deltas: 100% (80/80), done.\n"
          ],
          "name": "stdout"
        }
      ]
    },
    {
      "cell_type": "code",
      "metadata": {
        "id": "eurGWRazob47",
        "outputId": "27501b4b-f7fd-45b8-f5e3-98888501658f",
        "colab": {
          "base_uri": "https://localhost:8080/"
        }
      },
      "source": [
        "%cd ModelTest"
      ],
      "execution_count": 2,
      "outputs": [
        {
          "output_type": "stream",
          "text": [
            "/content/ModelTest\n"
          ],
          "name": "stdout"
        }
      ]
    },
    {
      "cell_type": "markdown",
      "metadata": {
        "id": "tFigM9Ihuu3x"
      },
      "source": [
        "# 获取数据集"
      ]
    },
    {
      "cell_type": "code",
      "metadata": {
        "id": "Et7vpiewab4Z"
      },
      "source": [
        "from modeltest.dataset.criteo import Criteo"
      ],
      "execution_count": 3,
      "outputs": []
    },
    {
      "cell_type": "code",
      "metadata": {
        "id": "cmq8YQzknrnt"
      },
      "source": [
        "train_size = 1000000\n",
        "test_test = 100000\n",
        "criteo = Criteo()"
      ],
      "execution_count": 4,
      "outputs": []
    },
    {
      "cell_type": "markdown",
      "metadata": {
        "id": "VizeGliXpDQ-"
      },
      "source": [
        "您可以通过 `criteo.load_data()` 进行数据集的下载  \n",
        "当检测到默认文件夹中不包含目标数据集时，系统将自动下载数据集  \n",
        "您可以通过修改 info 文件来自定义储存数据集的默认文件夹\n"
      ]
    },
    {
      "cell_type": "code",
      "metadata": {
        "id": "pyFca9g9qzWA",
        "outputId": "594625bb-0561-41ae-e45c-69b02c9ee1f4",
        "colab": {
          "base_uri": "https://localhost:8080/"
        }
      },
      "source": [
        "criteo.load_data()"
      ],
      "execution_count": 5,
      "outputs": [
        {
          "output_type": "execute_result",
          "data": {
            "text/plain": [
              "['/root/modeltest_data/criteo/kaggle-display-advertising-challenge-dataset/train.txt',\n",
              " '/root/modeltest_data/criteo/kaggle-display-advertising-challenge-dataset/test.txt']"
            ]
          },
          "metadata": {
            "tags": []
          },
          "execution_count": 5
        }
      ]
    },
    {
      "cell_type": "markdown",
      "metadata": {
        "id": "mlBBgoTNsAxS"
      },
      "source": [
        "您可以通过 `criteo.get_data()` 获取训练和测试数据  \n",
        "它们将以字典的形式返回 DataFrame 对象\n"
      ]
    },
    {
      "cell_type": "code",
      "metadata": {
        "id": "Rc182tCLafjQ"
      },
      "source": [
        "data = criteo.get_data(train_size, test_test)"
      ],
      "execution_count": 6,
      "outputs": []
    },
    {
      "cell_type": "markdown",
      "metadata": {
        "id": "7avOfjM5u2JJ"
      },
      "source": [
        "# 特征构造"
      ]
    },
    {
      "cell_type": "code",
      "metadata": {
        "id": "MtJ0-XgUu4A7"
      },
      "source": [
        ""
      ],
      "execution_count": null,
      "outputs": []
    },
    {
      "cell_type": "markdown",
      "metadata": {
        "id": "YN3XGCglvNIq"
      },
      "source": [
        "# 模型训练"
      ]
    },
    {
      "cell_type": "code",
      "metadata": {
        "id": "gBnRLC5QvOxH"
      },
      "source": [
        ""
      ],
      "execution_count": null,
      "outputs": []
    },
    {
      "cell_type": "markdown",
      "metadata": {
        "id": "MFXk58tUvQB4"
      },
      "source": [
        "# 评价指标"
      ]
    },
    {
      "cell_type": "code",
      "metadata": {
        "id": "VlkIQx4hvR3V"
      },
      "source": [
        ""
      ],
      "execution_count": null,
      "outputs": []
    }
  ]
}